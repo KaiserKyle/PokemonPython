{
 "cells": [
  {
   "cell_type": "code",
   "execution_count": 3,
   "source": [
    "import math\r\n",
    "import numpy as np\r\n",
    "import pandas as pd\r\n",
    "\r\n",
    "# Ordering:\r\n",
    "# NOR, FIR, WAT, ELE, GRA, ICE, FIG, POI, GRO, FLY, PSY, BUG, ROC, GHO, DRA, DAR, STE, FAI\r\n",
    "elemental_dict = {\r\n",
    "    \"normal\" : [1,1,1,1,1,1,2,1,1,1,1,1,1,0,1,1,1,1],\r\n",
    "    \"fire\" : [1,0.5,2,1,0.5,0.5,1,1,2,1,1,0.5,2,1,1,1,0.5,0.5],\r\n",
    "    \"water\" : [1,0.5,0.5,2,2,0.5,1,1,1,1,1,1,1,1,1,1,0.5,1],\r\n",
    "    \"electric\" : [1,1,1,0.5,1,1,1,1,2,0.5,1,1,1,1,1,1,0.5,1],\r\n",
    "    \"grass\" : [1,2,0.5,0.5,0.5,2,1,2,0.5,2,1,2,1,1,1,1,1,1],\r\n",
    "    \"ice\" : [1,2,1,1,1,0.5,2,1,1,1,1,1,2,1,1,1,2,1],\r\n",
    "    \"fighting\" : [1,1,1,1,1,1,1,1,1,2,2,0.5,0.5,1,1,0.5,1,2],\r\n",
    "    \"poison\" : [1,1,1,1,0.5,1,0.5,0.5,2,1,2,0.5,1,1,1,1,1,0.5],\r\n",
    "    \"ground\" : [1,1,2,0,2,2,1,0.5,1,1,1,1,0.5,1,1,1,1,1],\r\n",
    "    \"flying\" : [1,1,1,2,0.5,2,0.5,1,0,1,1,0.5,2,1,1,1,1,1],\r\n",
    "    \"psychic\" : [1,1,1,1,1,1,0.5,1,1,1,0.5,2,1,2,1,2,1,1],\r\n",
    "    \"bug\" : [1,2,1,1,0.5,1,0.5,1,0.5,2,1,1,2,1,1,1,1,1],\r\n",
    "    \"rock\" : [0.5,0.5,2,1,2,1,2,0.5,2,0.5,1,1,1,1,1,1,2,1],\r\n",
    "    \"ghost\" : [0,1,1,1,1,1,0,0.5,1,1,1,0.5,1,2,1,2,1,1],\r\n",
    "    \"dragon\" : [1,0.5,0.5,0.5,0.5,2,1,1,1,1,1,1,1,1,2,1,1,2],\r\n",
    "    \"dark\" : [1,1,1,1,1,1,2,1,1,1,0,2,1,0.5,1,0.5,1,2],\r\n",
    "    \"steel\" : [0.5,2,1,1,0.5,0.5,2,0,2,0.5,0.5,0.5,0.5,1,0.5,1,0.5,0.5],\r\n",
    "    \"fairy\" : [1,1,1,1,1,1,0.5,2,1,1,1,0.5,1,1,0,0.5,2,1]\r\n",
    "}\r\n",
    "\r\n",
    "def calcHP(base, iv, ev):\r\n",
    "    stat = 2 * base + iv + math.floor(ev / 4.0)\r\n",
    "    stat = stat * 50\r\n",
    "    stat = math.floor(0.01 * stat)\r\n",
    "    return stat + 60\r\n",
    "\r\n",
    "def calcStat(base, iv, ev):\r\n",
    "    stat = 2 * base + iv + math.floor(ev / 4.0)\r\n",
    "    stat = stat * 50\r\n",
    "    stat = math.floor(0.01 * stat)\r\n",
    "    return stat + 5\r\n",
    "\r\n",
    "def calcBaseDamage(power, atk, defense):\r\n",
    "    damage = 22 * power * (atk / defense)\r\n",
    "    damage = math.floor(damage / 50)\r\n",
    "    return damage + 2\r\n",
    "\r\n",
    "def getAllDamageRolls(totalDamage):\r\n",
    "    a = []\r\n",
    "    for x in range(85, 101):\r\n",
    "        damage = math.floor(totalDamage * x / 100)\r\n",
    "        a.append(damage)\r\n",
    "    return np.array(a)\r\n",
    "\r\n",
    "def getTypeEffectiveness(atkType, defType1, defType2):\r\n",
    "    defArray = elemental_dict[defType1]\r\n",
    "    effectiveness1 = defArray[getIndexOfType(atkType)]\r\n",
    "    effectiveness2 = 1.0\r\n",
    "    if defType2 != \"\":\r\n",
    "        defArray = elemental_dict[defType2]\r\n",
    "        effectiveness2 = defArray[getIndexOfType(atkType)]\r\n",
    "    return effectiveness1 * effectiveness2\r\n",
    "\r\n",
    "def getIndexOfType(type):\r\n",
    "    return list(elemental_dict).index(type)\r\n",
    "\r\n",
    "stab = 1.5\r\n",
    "\r\n",
    "class Pokemon:\r\n",
    "    def __init__(self, name, atk, defense, spatk, spdef, speed, type1, type2):\r\n",
    "        self.name = name\r\n",
    "        self.atk = atk\r\n",
    "        self.defense = defense\r\n",
    "        self.spatk = spatk\r\n",
    "        self.spdef = spdef\r\n",
    "        self.speed = speed\r\n",
    "        self.type1 = type1\r\n",
    "        self.type2 = type2\r\n",
    "        \r\n",
    "class Move:\r\n",
    "    def __init__(self, name, physical, potency, type):\r\n",
    "        self.name = name\r\n",
    "        self.physical = physical\r\n",
    "        self.potency = potency\r\n",
    "        self.type = type\r\n",
    "\r\n"
   ],
   "outputs": [],
   "metadata": {}
  },
  {
   "cell_type": "code",
   "execution_count": 4,
   "source": [
    "move1 = Move(\"Blizzard\", False, 110, \"ice\")\r\n",
    "move2 = Move(\"Leaf Storm\", False, 130, \"grass\")\r\n",
    "move3 = Move(\"Ice Shard\", True, 40, \"ice\")\r\n",
    "move4 = Move(\"Cross Chop\", True, 100, \"fighting\")\r\n",
    "\r\n",
    "moves = [move1, move2, move3, move4]\r\n",
    "\r\n",
    "poke1 = Pokemon(\"Abomasnow\", 103, 95, 158, 105, 92, \"grass\", \"ice\")\r\n",
    "poke2 = Pokemon(\"Snorlax\", 130, 128, 76, 134, 50, \"normal\", \"\")\r\n",
    "\r\n",
    "for move in moves:\r\n",
    "    # Damage Calc\r\n",
    "    if move.physical:\r\n",
    "        totalDamage = calcBaseDamage(move.potency, poke1.atk, poke2.defense)\r\n",
    "    else:\r\n",
    "        totalDamage = calcBaseDamage(move.potency, poke1.spatk, poke2.spdef)\r\n",
    "\r\n",
    "    # Weather\r\n",
    "\r\n",
    "    # Critical\r\n",
    "\r\n",
    "    # Random\r\n",
    "    damageRolls = getAllDamageRolls(totalDamage)\r\n",
    "\r\n",
    "    # STAB\r\n",
    "    if move.type == poke1.type1 or move.type == poke1.type2:\r\n",
    "        damageRolls = np.floor(damageRolls * stab)\r\n",
    "\r\n",
    "    # Type effectiveness\r\n",
    "    damageRolls = np.floor(damageRolls * getTypeEffectiveness(move.type, poke2.type1, poke2.type2))\r\n",
    "\r\n",
    "    # Burn penalty\r\n",
    "\r\n",
    "    print(move.name)\r\n",
    "    print(damageRolls)"
   ],
   "outputs": [
    {
     "output_type": "stream",
     "name": "stdout",
     "text": [
      "Blizzard\n",
      "[75. 75. 76. 76. 78. 79. 79. 81. 81. 82. 84. 84. 85. 85. 87. 88.]\n",
      "Leaf Storm\n",
      "[ 87.  88.  90.  90.  91.  93.  93.  94.  96.  96.  97.  99.  99. 100.\n",
      " 102. 103.]\n",
      "Ice Shard\n",
      "[19. 19. 19. 21. 21. 21. 21. 21. 21. 22. 22. 22. 22. 22. 22. 24.]\n",
      "Cross Chop\n",
      "[62. 62. 64. 64. 64. 66. 66. 68. 68. 68. 70. 70. 70. 72. 72. 74.]\n"
     ]
    }
   ],
   "metadata": {}
  },
  {
   "cell_type": "code",
   "execution_count": 13,
   "source": [
    "calcHP(90, 31, 140)"
   ],
   "outputs": [
    {
     "output_type": "execute_result",
     "data": {
      "text/plain": [
       "183"
      ]
     },
     "metadata": {},
     "execution_count": 13
    }
   ],
   "metadata": {}
  },
  {
   "cell_type": "code",
   "execution_count": null,
   "source": [],
   "outputs": [],
   "metadata": {}
  }
 ],
 "metadata": {
  "kernelspec": {
   "name": "python3",
   "display_name": "Python 3.8.10 64-bit (windows store)"
  },
  "language_info": {
   "codemirror_mode": {
    "name": "ipython",
    "version": 3
   },
   "file_extension": ".py",
   "mimetype": "text/x-python",
   "name": "python",
   "nbconvert_exporter": "python",
   "pygments_lexer": "ipython3",
   "version": "3.8.10"
  },
  "interpreter": {
   "hash": "1c1c208d74341d131ddde0910a5119c424e89991ec5c88d6c5c975bceb3f537e"
  }
 },
 "nbformat": 4,
 "nbformat_minor": 4
}